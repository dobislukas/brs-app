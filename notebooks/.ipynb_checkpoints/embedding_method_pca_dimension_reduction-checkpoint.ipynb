{
 "cells": [
  {
   "cell_type": "markdown",
   "metadata": {
    "id": "il9xnF2BE42X"
   },
   "source": [
    "## Dimensionality reduction by PCA"
   ]
  },
  {
   "cell_type": "markdown",
   "metadata": {
    "id": "zg03cTpGnG2T"
   },
   "source": [
    "### Paths"
   ]
  },
  {
   "cell_type": "code",
   "execution_count": 1,
   "metadata": {
    "id": "_2fysrN07w1-"
   },
   "outputs": [],
   "source": [
    "bx_preprocessed_dataset_path = \"bx_data/preprocessed_dataset/\"\n",
    "\n",
    "ratings_path = bx_preprocessed_dataset_path + \"preprocessed_ratings_data.pkl\"\n",
    "book_metadata_path = bx_preprocessed_dataset_path + \"preprocessed_book_metadata.pkl\"\n",
    "\n",
    "embeddings_save_path = \"book_embeddings/pca_book_embeddings.pkl\""
   ]
  },
  {
   "cell_type": "markdown",
   "metadata": {
    "id": "1ptC8-cqv5OT"
   },
   "source": [
    "\n",
    "### Imports\n"
   ]
  },
  {
   "cell_type": "code",
   "execution_count": 2,
   "metadata": {
    "id": "v_u4Tdr6rBAq"
   },
   "outputs": [],
   "source": [
    "import copy\n",
    "\n",
    "import pickle\n",
    "import pandas as pd\n",
    "import numpy as np\n",
    "\n",
    "from sklearn.decomposition import PCA\n",
    "from sklearn.neighbors import NearestNeighbors"
   ]
  },
  {
   "cell_type": "markdown",
   "metadata": {
    "id": "Bc_op4-Qv61E"
   },
   "source": [
    "### Load and prepare data"
   ]
  },
  {
   "cell_type": "code",
   "execution_count": 3,
   "metadata": {
    "id": "ER8CIDhiEKjv"
   },
   "outputs": [],
   "source": [
    "ratings = pd.read_pickle(ratings_path)\n",
    "books = pd.read_pickle(book_metadata_path)"
   ]
  },
  {
   "cell_type": "markdown",
   "metadata": {
    "id": "Ezo-umHWdNpv"
   },
   "source": [
    "### Create item to user ratings matrix"
   ]
  },
  {
   "cell_type": "code",
   "execution_count": 4,
   "metadata": {
    "id": "2TG04CUg7xOt"
   },
   "outputs": [],
   "source": [
    "item_to_user_ratings_matrix = np.array(ratings.pivot(\n",
    "    index=\"Book-Embedding-ID\",\n",
    "    columns=\"User-Embedding-ID\",\n",
    "    values='Book-Rating').fillna(0).astype(\"int8\"))"
   ]
  },
  {
   "cell_type": "markdown",
   "metadata": {
    "id": "S2dYBmaFdSto"
   },
   "source": [
    "### Reduce item user matrix dimensionality to item emb_dim dimensionality (user_count >> emb_dim)"
   ]
  },
  {
   "cell_type": "code",
   "execution_count": 5,
   "metadata": {
    "id": "W0XmtTD2q_Rl"
   },
   "outputs": [],
   "source": [
    "embedding_dim = 35\n",
    "\n",
    "pca = PCA(n_components=embedding_dim)\n",
    "embeddings = pca.fit_transform(item_to_user_ratings_matrix)"
   ]
  },
  {
   "cell_type": "markdown",
   "metadata": {
    "id": "iU-lf7Nm6jSe"
   },
   "source": [
    "### Save book embeddings"
   ]
  },
  {
   "cell_type": "code",
   "execution_count": 6,
   "metadata": {
    "id": "UkoW6CrmEmOf"
   },
   "outputs": [],
   "source": [
    "with open(embeddings_save_path, 'wb') as f:\n",
    "    pickle.dump(embeddings, f)"
   ]
  },
  {
   "cell_type": "markdown",
   "metadata": {
    "id": "2zQTli3Fn0pO"
   },
   "source": [
    "## Small recommendation test"
   ]
  },
  {
   "cell_type": "code",
   "execution_count": 7,
   "metadata": {
    "colab": {
     "base_uri": "https://localhost:8080/"
    },
    "id": "xs5W5tG5n0Bz",
    "outputId": "221b5038-7e09-457c-9a4d-d6b265019cee"
   },
   "outputs": [
    {
     "data": {
      "text/plain": [
       "(657, 35)"
      ]
     },
     "execution_count": 7,
     "metadata": {},
     "output_type": "execute_result"
    }
   ],
   "source": [
    "with open(embeddings_save_path, 'rb') as f:\n",
    "    loaded_embeddings = pickle.load(f)\n",
    "loaded_embeddings.shape"
   ]
  },
  {
   "cell_type": "code",
   "execution_count": 8,
   "metadata": {
    "colab": {
     "base_uri": "https://localhost:8080/",
     "height": 89
    },
    "id": "26otDUqQT0gn",
    "outputId": "ab4f2f21-fea9-4491-d864-5edec887197d"
   },
   "outputs": [
    {
     "data": {
      "text/html": [
       "\n",
       "  <div id=\"df-b1c2d148-9b63-416f-a023-40a2f7b53871\" class=\"colab-df-container\">\n",
       "    <div>\n",
       "<style scoped>\n",
       "    .dataframe tbody tr th:only-of-type {\n",
       "        vertical-align: middle;\n",
       "    }\n",
       "\n",
       "    .dataframe tbody tr th {\n",
       "        vertical-align: top;\n",
       "    }\n",
       "\n",
       "    .dataframe thead th {\n",
       "        text-align: right;\n",
       "    }\n",
       "</style>\n",
       "<table border=\"1\" class=\"dataframe\">\n",
       "  <thead>\n",
       "    <tr style=\"text-align: right;\">\n",
       "      <th></th>\n",
       "      <th>Book-Embedding-ID</th>\n",
       "      <th>Author-Embedding-ID</th>\n",
       "      <th>Year-Embedding-ID</th>\n",
       "      <th>Book-ID</th>\n",
       "      <th>ISBN</th>\n",
       "      <th>Book-Title</th>\n",
       "      <th>Book-Author</th>\n",
       "      <th>Year-Of-Publication</th>\n",
       "      <th>Publisher</th>\n",
       "      <th>Image-URL-M</th>\n",
       "    </tr>\n",
       "  </thead>\n",
       "  <tbody>\n",
       "    <tr>\n",
       "      <th>129</th>\n",
       "      <td>34</td>\n",
       "      <td>10383</td>\n",
       "      <td>11</td>\n",
       "      <td>2062</td>\n",
       "      <td>0590353403</td>\n",
       "      <td>Harry Potter and the Sorcerer's Stone</td>\n",
       "      <td>J. K. Rowling</td>\n",
       "      <td>1998</td>\n",
       "      <td>Scholastic</td>\n",
       "      <td>http://images.amazon.com/images/P/0590353403.0...</td>\n",
       "    </tr>\n",
       "  </tbody>\n",
       "</table>\n",
       "</div>\n",
       "    <div class=\"colab-df-buttons\">\n",
       "\n",
       "  <div class=\"colab-df-container\">\n",
       "    <button class=\"colab-df-convert\" onclick=\"convertToInteractive('df-b1c2d148-9b63-416f-a023-40a2f7b53871')\"\n",
       "            title=\"Convert this dataframe to an interactive table.\"\n",
       "            style=\"display:none;\">\n",
       "\n",
       "  <svg xmlns=\"http://www.w3.org/2000/svg\" height=\"24px\" viewBox=\"0 -960 960 960\">\n",
       "    <path d=\"M120-120v-720h720v720H120Zm60-500h600v-160H180v160Zm220 220h160v-160H400v160Zm0 220h160v-160H400v160ZM180-400h160v-160H180v160Zm440 0h160v-160H620v160ZM180-180h160v-160H180v160Zm440 0h160v-160H620v160Z\"/>\n",
       "  </svg>\n",
       "    </button>\n",
       "\n",
       "  <style>\n",
       "    .colab-df-container {\n",
       "      display:flex;\n",
       "      gap: 12px;\n",
       "    }\n",
       "\n",
       "    .colab-df-convert {\n",
       "      background-color: #E8F0FE;\n",
       "      border: none;\n",
       "      border-radius: 50%;\n",
       "      cursor: pointer;\n",
       "      display: none;\n",
       "      fill: #1967D2;\n",
       "      height: 32px;\n",
       "      padding: 0 0 0 0;\n",
       "      width: 32px;\n",
       "    }\n",
       "\n",
       "    .colab-df-convert:hover {\n",
       "      background-color: #E2EBFA;\n",
       "      box-shadow: 0px 1px 2px rgba(60, 64, 67, 0.3), 0px 1px 3px 1px rgba(60, 64, 67, 0.15);\n",
       "      fill: #174EA6;\n",
       "    }\n",
       "\n",
       "    .colab-df-buttons div {\n",
       "      margin-bottom: 4px;\n",
       "    }\n",
       "\n",
       "    [theme=dark] .colab-df-convert {\n",
       "      background-color: #3B4455;\n",
       "      fill: #D2E3FC;\n",
       "    }\n",
       "\n",
       "    [theme=dark] .colab-df-convert:hover {\n",
       "      background-color: #434B5C;\n",
       "      box-shadow: 0px 1px 3px 1px rgba(0, 0, 0, 0.15);\n",
       "      filter: drop-shadow(0px 1px 2px rgba(0, 0, 0, 0.3));\n",
       "      fill: #FFFFFF;\n",
       "    }\n",
       "  </style>\n",
       "\n",
       "    <script>\n",
       "      const buttonEl =\n",
       "        document.querySelector('#df-b1c2d148-9b63-416f-a023-40a2f7b53871 button.colab-df-convert');\n",
       "      buttonEl.style.display =\n",
       "        google.colab.kernel.accessAllowed ? 'block' : 'none';\n",
       "\n",
       "      async function convertToInteractive(key) {\n",
       "        const element = document.querySelector('#df-b1c2d148-9b63-416f-a023-40a2f7b53871');\n",
       "        const dataTable =\n",
       "          await google.colab.kernel.invokeFunction('convertToInteractive',\n",
       "                                                    [key], {});\n",
       "        if (!dataTable) return;\n",
       "\n",
       "        const docLinkHtml = 'Like what you see? Visit the ' +\n",
       "          '<a target=\"_blank\" href=https://colab.research.google.com/notebooks/data_table.ipynb>data table notebook</a>'\n",
       "          + ' to learn more about interactive tables.';\n",
       "        element.innerHTML = '';\n",
       "        dataTable['output_type'] = 'display_data';\n",
       "        await google.colab.output.renderOutput(dataTable, element);\n",
       "        const docLink = document.createElement('div');\n",
       "        docLink.innerHTML = docLinkHtml;\n",
       "        element.appendChild(docLink);\n",
       "      }\n",
       "    </script>\n",
       "  </div>\n",
       "\n",
       "\n",
       "<div id=\"df-7347f32f-961e-478d-bed2-7552976ae0f7\">\n",
       "  <button class=\"colab-df-quickchart\" onclick=\"quickchart('df-7347f32f-961e-478d-bed2-7552976ae0f7')\"\n",
       "            title=\"Suggest charts.\"\n",
       "            style=\"display:none;\">\n",
       "\n",
       "<svg xmlns=\"http://www.w3.org/2000/svg\" height=\"24px\"viewBox=\"0 0 24 24\"\n",
       "     width=\"24px\">\n",
       "    <g>\n",
       "        <path d=\"M19 3H5c-1.1 0-2 .9-2 2v14c0 1.1.9 2 2 2h14c1.1 0 2-.9 2-2V5c0-1.1-.9-2-2-2zM9 17H7v-7h2v7zm4 0h-2V7h2v10zm4 0h-2v-4h2v4z\"/>\n",
       "    </g>\n",
       "</svg>\n",
       "  </button>\n",
       "\n",
       "<style>\n",
       "  .colab-df-quickchart {\n",
       "    background-color: #E8F0FE;\n",
       "    border: none;\n",
       "    border-radius: 50%;\n",
       "    cursor: pointer;\n",
       "    display: none;\n",
       "    fill: #1967D2;\n",
       "    height: 32px;\n",
       "    padding: 0 0 0 0;\n",
       "    width: 32px;\n",
       "  }\n",
       "\n",
       "  .colab-df-quickchart:hover {\n",
       "    background-color: #E2EBFA;\n",
       "    box-shadow: 0px 1px 2px rgba(60, 64, 67, 0.3), 0px 1px 3px 1px rgba(60, 64, 67, 0.15);\n",
       "    fill: #174EA6;\n",
       "  }\n",
       "\n",
       "  [theme=dark] .colab-df-quickchart {\n",
       "    background-color: #3B4455;\n",
       "    fill: #D2E3FC;\n",
       "  }\n",
       "\n",
       "  [theme=dark] .colab-df-quickchart:hover {\n",
       "    background-color: #434B5C;\n",
       "    box-shadow: 0px 1px 3px 1px rgba(0, 0, 0, 0.15);\n",
       "    filter: drop-shadow(0px 1px 2px rgba(0, 0, 0, 0.3));\n",
       "    fill: #FFFFFF;\n",
       "  }\n",
       "</style>\n",
       "\n",
       "  <script>\n",
       "    async function quickchart(key) {\n",
       "      const charts = await google.colab.kernel.invokeFunction(\n",
       "          'suggestCharts', [key], {});\n",
       "    }\n",
       "    (() => {\n",
       "      let quickchartButtonEl =\n",
       "        document.querySelector('#df-7347f32f-961e-478d-bed2-7552976ae0f7 button');\n",
       "      quickchartButtonEl.style.display =\n",
       "        google.colab.kernel.accessAllowed ? 'block' : 'none';\n",
       "    })();\n",
       "  </script>\n",
       "</div>\n",
       "    </div>\n",
       "  </div>\n"
      ],
      "text/plain": [
       "     Book-Embedding-ID  Author-Embedding-ID  Year-Embedding-ID  Book-ID  \\\n",
       "129                 34                10383                 11     2062   \n",
       "\n",
       "           ISBN                             Book-Title    Book-Author  \\\n",
       "129  0590353403  Harry Potter and the Sorcerer's Stone  J. K. Rowling   \n",
       "\n",
       "     Year-Of-Publication   Publisher  \\\n",
       "129                 1998  Scholastic   \n",
       "\n",
       "                                           Image-URL-M  \n",
       "129  http://images.amazon.com/images/P/0590353403.0...  "
      ]
     },
     "execution_count": 8,
     "metadata": {},
     "output_type": "execute_result"
    }
   ],
   "source": [
    "harry_potter_sorc_stone_emb_id = books[\"Book-Embedding-ID\"][\n",
    "    books[\"Book-Title\"].str.contains(\n",
    "        \"Harry Potter and the Sorcerer's Stone\")]\n",
    "\n",
    "books[\n",
    "    books[\"Book-Title\"].str.contains(\n",
    "        \"Harry Potter and the Sorcerer's Stone\")]"
   ]
  },
  {
   "cell_type": "code",
   "execution_count": 9,
   "metadata": {
    "id": "gxju2deZ2rvU"
   },
   "outputs": [],
   "source": [
    "def get_k_nearest_neighbours_model(embeddings, metric=\"cosine\"):\n",
    "    knn_model = NearestNeighbors(metric=metric, n_jobs=-1)\n",
    "    knn_model.fit(embeddings)\n",
    "    return knn_model\n",
    "\n",
    "def get_k_neighbours_for_vector(vector, knn_model, k=5):\n",
    "    _, cos_indices = knn_model.kneighbors(\n",
    "        vector, n_neighbors=k)\n",
    "    return cos_indices\n",
    "\n",
    "def convert_emb_ids_to_book_ids(ratings, emb_ids):\n",
    "  recommended_book_ids = ratings[\n",
    "      ratings[\"Book-Embedding-ID\"].isin(emb_ids[0])]\n",
    "\n",
    "  sorted_recommended_book_ids = recommended_book_ids.sort_values(\n",
    "      by=[\"Book-Embedding-ID\"],\n",
    "      key=lambda x: x.map(\n",
    "          {v: i for i, v in enumerate(emb_ids[0])}))\n",
    "\n",
    "  sorted_recommended_book_ids = sorted_recommended_book_ids[\"Book-ID\"].unique()\n",
    "  return sorted_recommended_book_ids\n",
    "\n",
    "def get_book_titles_from_book_ids(books_metadata, book_ids):\n",
    "  recommended_books = books_metadata[\n",
    "      books_metadata['Book-ID'].isin(book_ids)].sort_values(\n",
    "          by=[\"Book-ID\"], key=lambda x: x.map(\n",
    "              {v: i for i, v in enumerate(book_ids)}))\n",
    "  return recommended_books['Book-Title'].unique()\n",
    "\n",
    "def get_book_recommendations(\n",
    "    emb_id, embeddings,\n",
    "    book_ratings, book_metadata,\n",
    "    number_of_recommendations):\n",
    "  book_emb = embeddings[emb_id].reshape(1,-1)\n",
    "\n",
    "  knn_model = get_k_nearest_neighbours_model(\n",
    "      embeddings, metric=\"cosine\")\n",
    "  recommended_book_emb_ids = get_k_neighbours_for_vector(\n",
    "      book_emb, knn_model, k=number_of_recommendations)\n",
    "  recommended_book_ids = convert_emb_ids_to_book_ids(\n",
    "      book_ratings, recommended_book_emb_ids)\n",
    "  recommended_book_titles = get_book_titles_from_book_ids(\n",
    "      book_metadata, recommended_book_ids)\n",
    "\n",
    "  return recommended_book_titles"
   ]
  },
  {
   "cell_type": "code",
   "execution_count": 10,
   "metadata": {
    "colab": {
     "base_uri": "https://localhost:8080/"
    },
    "id": "ditFrKO28Ap5",
    "outputId": "aee7dda2-cd22-4b39-d493-2870792b63b6"
   },
   "outputs": [
    {
     "data": {
      "text/plain": [
       "array([\"Harry Potter and the Sorcerer's Stone\",\n",
       "       'Harry Potter and the Chamber of Secrets',\n",
       "       'Harry Potter and the Prisoner of Azkaban',\n",
       "       'Harry Potter and the Goblet of Fire',\n",
       "       'Harry Potter and the Order of the Phoenix'], dtype=object)"
      ]
     },
     "execution_count": 10,
     "metadata": {},
     "output_type": "execute_result"
    }
   ],
   "source": [
    "get_book_recommendations(\n",
    "    harry_potter_sorc_stone_emb_id,\n",
    "    loaded_embeddings, ratings, books, 5)"
   ]
  }
 ],
 "metadata": {
  "colab": {
   "gpuType": "T4",
   "provenance": []
  },
  "kernelspec": {
   "display_name": "Python 3 (ipykernel)",
   "language": "python",
   "name": "python3"
  },
  "language_info": {
   "codemirror_mode": {
    "name": "ipython",
    "version": 3
   },
   "file_extension": ".py",
   "mimetype": "text/x-python",
   "name": "python",
   "nbconvert_exporter": "python",
   "pygments_lexer": "ipython3",
   "version": "3.11.3"
  }
 },
 "nbformat": 4,
 "nbformat_minor": 4
}
